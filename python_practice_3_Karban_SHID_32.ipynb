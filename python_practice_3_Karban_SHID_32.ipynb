{
  "nbformat": 4,
  "nbformat_minor": 0,
  "metadata": {
    "colab": {
      "provenance": []
    },
    "kernelspec": {
      "name": "python3",
      "display_name": "Python 3"
    },
    "language_info": {
      "name": "python"
    }
  },
  "cells": [
    {
      "cell_type": "markdown",
      "source": [
        "# I. range."
      ],
      "metadata": {
        "id": "bhnw_OBiped2"
      }
    },
    {
      "cell_type": "markdown",
      "source": [
        "1. (4 бали) Створіть обʼєкт типу range, який буде містити послідовність цілих чисел від 0 до 9 включно. Виведіть його довжину (кількість значень)."
      ],
      "metadata": {
        "id": "cS4sWGwctkLH"
      }
    },
    {
      "cell_type": "code",
      "source": [
        "for i in range(0, 10, 1):\n",
        "  print(i)"
      ],
      "metadata": {
        "id": "1XFhN5gVte4X",
        "colab": {
          "base_uri": "https://localhost:8080/"
        },
        "outputId": "c8c9c6d0-7492-4b48-dfa8-4c632f1fe067"
      },
      "execution_count": 49,
      "outputs": [
        {
          "output_type": "stream",
          "name": "stdout",
          "text": [
            "0\n",
            "1\n",
            "2\n",
            "3\n",
            "4\n",
            "5\n",
            "6\n",
            "7\n",
            "8\n",
            "9\n"
          ]
        }
      ]
    },
    {
      "cell_type": "markdown",
      "source": [
        "2. (5 балів) Створіть обʼєкт типу range, який буде містити послідовність цілих чисел (16, 13, 10, 7, 4, 1, -2, -5)"
      ],
      "metadata": {
        "id": "VZ0Dh0m-t9tM"
      }
    },
    {
      "cell_type": "code",
      "execution_count": 46,
      "metadata": {
        "id": "YavF1Agaoe8J",
        "colab": {
          "base_uri": "https://localhost:8080/"
        },
        "outputId": "7e82ce1a-55f9-4f42-f65d-f97fb8087740"
      },
      "outputs": [
        {
          "output_type": "stream",
          "name": "stdout",
          "text": [
            "16\n",
            "13\n",
            "10\n",
            "7\n",
            "4\n",
            "1\n",
            "-2\n",
            "-5\n"
          ]
        }
      ],
      "source": [
        "for n in range(16, -8, -3):\n",
        "  print(n)"
      ]
    },
    {
      "cell_type": "markdown",
      "source": [
        "3. (4 бали) Створіть змінну зі значенням цілого типу. Перевірте, чи вона належить проміжку від 49 до 100 включно. Як ви гадаєте, для чого використовуються range?"
      ],
      "metadata": {
        "id": "nBmE3_nMuavj"
      }
    },
    {
      "cell_type": "code",
      "source": [
        "k = int(input('Введіть число для перевірки: '))\n",
        "if k in range(49, 101):\n",
        "    print(\"Змінна належить проміжку від 49 до 100 включно.\")\n",
        "else:\n",
        "    print(\"Змінна не належить вказаному проміжку.\")\n"
      ],
      "metadata": {
        "id": "5KmgBmOIuku4",
        "colab": {
          "base_uri": "https://localhost:8080/"
        },
        "outputId": "6e784c9e-1597-46a3-8a93-2ec9a0e7405e"
      },
      "execution_count": 51,
      "outputs": [
        {
          "output_type": "stream",
          "name": "stdout",
          "text": [
            "Введіть число для перевірки: 50\n",
            "Змінна належить проміжку від 49 до 100 включно.\n"
          ]
        }
      ]
    },
    {
      "cell_type": "markdown",
      "source": [
        "**місце для відповіді*\n",
        "\n",
        "Функція range використовується для створення послідовності чисел в заданому діапазоні. Що також полегшує читабельніть та використання коду, ніж умова\n",
        "' x1 < n < x2 '"
      ],
      "metadata": {
        "id": "hZHtKQUJxDxj"
      }
    },
    {
      "cell_type": "markdown",
      "source": [
        "# II. Comprehensions."
      ],
      "metadata": {
        "id": "56FjMkPatTD6"
      }
    },
    {
      "cell_type": "markdown",
      "source": [
        "4. (6 балів) Створіть множину (set), використовуючи range та set comprehension."
      ],
      "metadata": {
        "id": "AZyfyNfYvOyq"
      }
    },
    {
      "cell_type": "code",
      "source": [
        "set = {x for x in range(1, 11)}\n",
        "print(set)"
      ],
      "metadata": {
        "id": "DE8oNYSUvNfR",
        "colab": {
          "base_uri": "https://localhost:8080/"
        },
        "outputId": "28a77a19-474a-407b-8a8a-e1dfec2a4730"
      },
      "execution_count": 50,
      "outputs": [
        {
          "output_type": "stream",
          "name": "stdout",
          "text": [
            "{1, 2, 3, 4, 5, 6, 7, 8, 9, 10}\n"
          ]
        }
      ]
    },
    {
      "cell_type": "markdown",
      "source": [
        "5. (8 балів) Створіть словник, використовуючи dict comprehension, що містить if else. Коли слід використовувати comprehensions, а коли їх слід уникати?"
      ],
      "metadata": {
        "id": "5IsyYnolvWxJ"
      }
    },
    {
      "cell_type": "code",
      "source": [
        "dict = {x: x**2 if x % 2 == 0 else x**3 for x in range(1, 6)}\n",
        "print(dict)"
      ],
      "metadata": {
        "id": "PTLiarj4vWVu",
        "colab": {
          "base_uri": "https://localhost:8080/"
        },
        "outputId": "29af048d-4335-4cf1-f0e8-01441aef4a8d"
      },
      "execution_count": 52,
      "outputs": [
        {
          "output_type": "stream",
          "name": "stdout",
          "text": [
            "{1: 1, 2: 4, 3: 27, 4: 16, 5: 125}\n"
          ]
        }
      ]
    },
    {
      "cell_type": "markdown",
      "source": [
        "**місце для відповіді*\n",
        "\n",
        "Comprehensions, є зручним коли потрібно виконати прості операції на кожному елементі колекції. Але код стає складним та важким для розуміння через використання великої кількості вбудованих умов та операцій, краще зберегти баланс між компактністю та читабельністю."
      ],
      "metadata": {
        "id": "PcwgYcjdxYPA"
      }
    },
    {
      "cell_type": "markdown",
      "source": [
        "6. (7 балів) Створіть список з рядками та запишіть його у змінну. Створіть ще один список на основі попереднього, де кожен рядок буде містити тільки три перших заглавних символи. Наприклад: ['hello', 'i', 'dont', 'care'] -> ['HEL', 'I', 'DON', 'CAR']"
      ],
      "metadata": {
        "id": "xPVEDwk6vfhU"
      }
    },
    {
      "cell_type": "code",
      "source": [
        "list = ['hello', 'i', 'dont', 'care']\n",
        "upper_case = [word[:3].upper() for word in list]\n",
        "print(upper_case)"
      ],
      "metadata": {
        "id": "l1FAM69Owi7q",
        "colab": {
          "base_uri": "https://localhost:8080/"
        },
        "outputId": "ec83eb7b-0a7a-4381-9a86-d5776490b55d"
      },
      "execution_count": 77,
      "outputs": [
        {
          "output_type": "stream",
          "name": "stdout",
          "text": [
            "['HEL', 'I', 'DON', 'CAR']\n"
          ]
        }
      ]
    },
    {
      "cell_type": "markdown",
      "source": [
        "# III. Цикли."
      ],
      "metadata": {
        "id": "9zEB8ekEtTnQ"
      }
    },
    {
      "cell_type": "markdown",
      "source": [
        "7. (6 балів) Продемонструйте роботу циклу while. Чи можна використовувати в умові циклу булеві значення? Чому?"
      ],
      "metadata": {
        "id": "AlEfFe4Fwv8n"
      }
    },
    {
      "cell_type": "code",
      "source": [
        "# Звичайний цикл\n",
        "i = 1\n",
        "while i <= 5:\n",
        "  print(i)\n",
        "  i += 1\n",
        "print(\"Цикл завершено.\")"
      ],
      "metadata": {
        "id": "kiDSbqo0wwMZ",
        "colab": {
          "base_uri": "https://localhost:8080/"
        },
        "outputId": "92197b80-82e8-4895-86a9-b27585665946"
      },
      "execution_count": 84,
      "outputs": [
        {
          "output_type": "stream",
          "name": "stdout",
          "text": [
            "1\n",
            "2\n",
            "3\n",
            "4\n",
            "5\n",
            "Цикл завершено.\n"
          ]
        }
      ]
    },
    {
      "cell_type": "code",
      "source": [
        "# Цикл з булевим значенням\n",
        "i = True\n",
        "while i == True:\n",
        "  print(i, \"\\nБо умова True.\")\n",
        "  i += 1\n",
        "print(\"Цикл завершено.\")"
      ],
      "metadata": {
        "colab": {
          "base_uri": "https://localhost:8080/"
        },
        "id": "Y0kD9mMrblLn",
        "outputId": "d1f94467-5e7c-4feb-f0fd-ff92b3e128cd"
      },
      "execution_count": 99,
      "outputs": [
        {
          "output_type": "stream",
          "name": "stdout",
          "text": [
            "True \n",
            "Бо умова True.\n",
            "Цикл завершено.\n"
          ]
        }
      ]
    },
    {
      "cell_type": "markdown",
      "source": [
        "8. (8 балів) Напишіть програму, яка виведе на екран непарні числа в діапазоні від 0 до 20 включно."
      ],
      "metadata": {
        "id": "J9TkD5_Cx3I1"
      }
    },
    {
      "cell_type": "code",
      "source": [
        "for j in range(0, 21, 2):\n",
        "  print(j)"
      ],
      "metadata": {
        "id": "5A1d-qvVx34B",
        "colab": {
          "base_uri": "https://localhost:8080/"
        },
        "outputId": "540456cc-b9ef-473d-f408-a11f4303a149"
      },
      "execution_count": 100,
      "outputs": [
        {
          "output_type": "stream",
          "name": "stdout",
          "text": [
            "0\n",
            "2\n",
            "4\n",
            "6\n",
            "8\n",
            "10\n",
            "12\n",
            "14\n",
            "16\n",
            "18\n",
            "20\n"
          ]
        }
      ]
    },
    {
      "cell_type": "markdown",
      "source": [
        "9. (7 балів) Створіть список з елементами булевого типу або None. Використовуючи цикли, отримайте в результаті список з кортежами, де перший елемент кортежу - індекс(ціле число), а другий елемент - відповідне значення з першого списку.\n",
        "\n",
        "Наприклад, [True, True, None, False] -> [(0, True), (1, True), (2, None), (3, False)]"
      ],
      "metadata": {
        "id": "xN6Kfmqex4NU"
      }
    },
    {
      "cell_type": "code",
      "source": [
        "list1 = [True, True, None, False]\n",
        "result_list = [(index, value) for index, value in enumerate(list1)]\n",
        "print(result_list)"
      ],
      "metadata": {
        "id": "YhVlQnNIx405",
        "colab": {
          "base_uri": "https://localhost:8080/"
        },
        "outputId": "4750c481-9184-4332-9d2a-dea63cb7d679"
      },
      "execution_count": 104,
      "outputs": [
        {
          "output_type": "stream",
          "name": "stdout",
          "text": [
            "[(0, True), (1, True), (2, None), (3, False)]\n"
          ]
        }
      ]
    },
    {
      "cell_type": "markdown",
      "source": [
        "10. (10 балів) Створіть словник, де ключі - назви книжок, а значення - їхня кількість у наявності в Вашій міні-бібліотеці. Бібліотека має містити щонайменше 6 книжок (6 пар значень у словнику) і щонайбільше 10 (пар значень). Використовуючи цикли, оновіть словник (не створюйте новий) так, щоби кількість книг у наявності збільшилося на 5 кожної книги. Наприклад,\n",
        "{'It': 3, 'Fault stars': 10, 'Bible': 17, 'Psychological romance': 4, 'Harry Potter': 13} -> {'It': 8, 'Fault stars': 15, 'Bible': 22, 'Psychological romance': 9, 'Harry Potter': 18}"
      ],
      "metadata": {
        "id": "cJNlWxHLx5mW"
      }
    },
    {
      "cell_type": "code",
      "source": [
        "library = {'It': 3,\n",
        "           'Fault stars': 10,\n",
        "           'Bible': 17,\n",
        "           'Psychological romance': 4,\n",
        "           'Harry Potter': 13}\n",
        "\n",
        "for book in library:\n",
        "    library[book] += 5\n",
        "\n",
        "print(library)"
      ],
      "metadata": {
        "id": "pI7I71ao0qh_",
        "colab": {
          "base_uri": "https://localhost:8080/"
        },
        "outputId": "51dfb0a3-dddc-43ec-b3a3-2549ac7d02e8"
      },
      "execution_count": 12,
      "outputs": [
        {
          "output_type": "stream",
          "name": "stdout",
          "text": [
            "{'It': 8, 'Fault stars': 15, 'Bible': 22, 'Psychological romance': 9, 'Harry Potter': 18}\n"
          ]
        }
      ]
    },
    {
      "cell_type": "markdown",
      "source": [
        "11. (15 балів) Визначте цілочислену змінну n, що належить проміжку від 4 до 10 включно. Використовуючи цикли, виведіть в консоль наступний патерн.\n",
        "\n",
        "#\n",
        "##\n",
        "###\n",
        "####\n",
        "\n",
        "... #*n\n"
      ],
      "metadata": {
        "id": "qdZA6qi82GBa"
      }
    },
    {
      "cell_type": "code",
      "source": [
        "n = int(input(\"Введіть розмір трикутника: \"))\n",
        "if n in range(4, 11):\n",
        "  for i in range(0,n):\n",
        "    for x in range(0,i+1):\n",
        "      print('#', end='')\n",
        "    print()\n",
        "else:\n",
        "  print()"
      ],
      "metadata": {
        "id": "aaHuUQHfx6YO",
        "colab": {
          "base_uri": "https://localhost:8080/"
        },
        "outputId": "11138951-5e63-4fbc-f6d0-f9f4e4abf006"
      },
      "execution_count": 59,
      "outputs": [
        {
          "output_type": "stream",
          "name": "stdout",
          "text": [
            "Введіть розмір трикутника: 10\n",
            "#\n",
            "##\n",
            "###\n",
            "####\n",
            "#####\n",
            "######\n",
            "#######\n",
            "########\n",
            "#########\n",
            "##########\n"
          ]
        }
      ]
    },
    {
      "cell_type": "markdown",
      "source": [
        "12. (20 балів) Гра \"Нумо вгадай\".\n",
        "Розробіть просту гру, де користувач має вгадати випадкове число від 1 до 100. Для генерації випадкового числа використовуйте функцію random.randint(a, b) (тут a та b включно). Для отримання числа з консолі використовуйте функцію input(), результат якої обовʼязково явно приведіть до типу int.\n",
        "\n",
        "Підказка: використовуйте цикл while та умови if-else, щоб повідомити користувачу піказки (напр. \"Більше\", \"Менше\") поки користувач не вгадає. По завершенню виведіть кількість спроб, які знадобилися для вгадування.\n"
      ],
      "metadata": {
        "id": "XOniyaun74Ed"
      }
    },
    {
      "cell_type": "code",
      "source": [
        "import random\n",
        "\n",
        "print('Ласкаво просимо в Числову Угадайку!')\n",
        "print('Число згенеровано.')\n",
        "\n",
        "random_num = random.randint(0, 100)\n",
        "\n",
        "while True:\n",
        "  num = int(input('Введи ймовірне число! '))\n",
        "  if num == random_num:\n",
        "    print('Вітаю! Ти вгадав. Це число -',random_num)\n",
        "    break\n",
        "  elif num > random_num:\n",
        "    print('Менше. Спробуй ще раз!')\n",
        "  else:\n",
        "    print('Більше. Спробуй ще раз!', num)"
      ],
      "metadata": {
        "id": "iomCeUuW73NG",
        "colab": {
          "base_uri": "https://localhost:8080/"
        },
        "outputId": "866c4f79-6e55-49bf-ff70-3262360a07c3"
      },
      "execution_count": 1,
      "outputs": [
        {
          "output_type": "stream",
          "name": "stdout",
          "text": [
            "Ласкаво просимо в Числову Угадайку!\n",
            "Число згенеровано.\n",
            "Введи ймовірне число! 50\n",
            "Більше. Спробуй ще раз! 50\n",
            "Введи ймовірне число! 80\n",
            "Менше. Спробуй ще раз!\n",
            "Введи ймовірне число! 60\n",
            "Більше. Спробуй ще раз! 60\n",
            "Введи ймовірне число! 70\n",
            "Більше. Спробуй ще раз! 70\n",
            "Введи ймовірне число! 75\n",
            "Менше. Спробуй ще раз!\n",
            "Введи ймовірне число! 73\n",
            "Менше. Спробуй ще раз!\n",
            "Введи ймовірне число! 71\n",
            "Більше. Спробуй ще раз! 71\n",
            "Введи ймовірне число! 72\n",
            "Вітаю! Ти вгадав. Це число - 72\n"
          ]
        }
      ]
    },
    {
      "cell_type": "markdown",
      "source": [
        "# Вітаю! Ви велика(ий) молодець, що впоралась(вся). Похваліть себе та побалуйте чимось приємним. Я Вами пишаюся."
      ],
      "metadata": {
        "id": "jTs-rqOptY2R"
      }
    }
  ]
}