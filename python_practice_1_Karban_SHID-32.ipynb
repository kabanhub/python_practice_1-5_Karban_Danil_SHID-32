{
  "nbformat": 4,
  "nbformat_minor": 0,
  "metadata": {
    "colab": {
      "provenance": []
    },
    "kernelspec": {
      "name": "python3",
      "display_name": "Python 3"
    },
    "language_info": {
      "name": "python"
    }
  },
  "cells": [
    {
      "cell_type": "markdown",
      "source": [
        "# I. Змінні та памʼять."
      ],
      "metadata": {
        "id": "p9wwt0LZzNvn"
      }
    },
    {
      "cell_type": "markdown",
      "source": [
        "1. Створити змінні, що посилаються на два цілих числа, що однакові за значенням, де значення належить проміжку від -5 до 256. Чи будуть ці змінні рівні тільки за значенням або ж ще будуть посилатися на один і той самий обʼєкт в памʼяті? Наведіть код та дайте текстову відповідь нижче."
      ],
      "metadata": {
        "id": "HTJrrm95xSV9"
      }
    },
    {
      "cell_type": "code",
      "execution_count": 1,
      "metadata": {
        "id": "FHSFpb1bwTFG",
        "colab": {
          "base_uri": "https://localhost:8080/"
        },
        "outputId": "079cdd7e-b52e-4ae7-d1ed-3ee5fa5c3528"
      },
      "outputs": [
        {
          "output_type": "execute_result",
          "data": {
            "text/plain": [
              "(135821775896944, 135821775896944)"
            ]
          },
          "metadata": {},
          "execution_count": 1
        }
      ],
      "source": [
        "alpha = 5\n",
        "beta = 5\n",
        "id(alpha), id (beta)"
      ]
    },
    {
      "cell_type": "markdown",
      "source": [
        "2. Створити змінні, що посилаються на одне і те саме булеве значення. Чи будуть ці змінні рівні тільки за значенням або ж ще будуть посилатися на один і той самий обʼєкт в памʼяті? Наведіть код та дайте текстову відповідь нижче."
      ],
      "metadata": {
        "id": "N-soIzlV0Awv"
      }
    },
    {
      "cell_type": "code",
      "source": [
        "alpha = True\n",
        "beta = True\n",
        "print(id(alpha))\n",
        "print(id(beta))\n",
        "print(alpha is beta) # Перевіряє, чи alpha і beta посилаються на один і той самий об'єкт"
      ],
      "metadata": {
        "id": "qK1-VBih0Lgz",
        "colab": {
          "base_uri": "https://localhost:8080/"
        },
        "outputId": "254989d1-b772-429b-c455-5d9216adc6b7"
      },
      "execution_count": 8,
      "outputs": [
        {
          "output_type": "stream",
          "name": "stdout",
          "text": [
            "99095439660064\n",
            "99095439660064\n",
            "True\n"
          ]
        }
      ]
    },
    {
      "cell_type": "markdown",
      "source": [
        "Змінні alpha і beta посилаються на один і той самий об'єкт, і alpha is beta повертає True, що свідчить про те, що вони посилаються на один і той самий об'єкт в пам'яті."
      ],
      "metadata": {
        "id": "nD2SJcgaya4d"
      }
    },
    {
      "cell_type": "markdown",
      "source": [
        "3. За допомогою якої функції можна перевірити належність змінної до вказаного типу даних (напр. чи змінна посилається на значення булевого типу)?"
      ],
      "metadata": {
        "id": "ISORzt6M3vAt"
      }
    },
    {
      "cell_type": "code",
      "source": [
        "number = 15.7\n",
        "isinstance(number, float) #Якщо змінна number була б, наприклад, цілим числом, то результат був би \"False\""
      ],
      "metadata": {
        "id": "N7HHGm4H4CW7",
        "colab": {
          "base_uri": "https://localhost:8080/"
        },
        "outputId": "c183b495-422c-4941-9357-007c5ae6c6d5"
      },
      "execution_count": 16,
      "outputs": [
        {
          "output_type": "execute_result",
          "data": {
            "text/plain": [
              "True"
            ]
          },
          "metadata": {},
          "execution_count": 16
        }
      ]
    },
    {
      "cell_type": "markdown",
      "source": [
        "# II. Цілі числа та числа з рухомою комою"
      ],
      "metadata": {
        "id": "tRxugKAxwYLw"
      }
    },
    {
      "cell_type": "markdown",
      "source": [
        "4. Створити дві змінні, що посилаються на будь-які два цілих числа та продемонструвати такі арифметичні операції: додавання, віднімання, ділення, множення, ділення без залишку, ділення по модулю, приведення до ступеню. Всі результати операцій вивести на екран."
      ],
      "metadata": {
        "id": "NLHkgd5Gybc8"
      }
    },
    {
      "cell_type": "code",
      "source": [
        "a = 7\n",
        "b = 2\n",
        "\n",
        "result_addition = a + b\n",
        "print(\"Додавання:\", result_addition)\n",
        "\n",
        "result_subtraction = a - b\n",
        "print(\"Віднімання:\", result_subtraction)\n",
        "\n",
        "result_division = a / b\n",
        "print(\"Ділення:\", result_division)\n",
        "\n",
        "result_multiplication = a * b\n",
        "print(\"Множення:\", result_multiplication)\n",
        "\n",
        "result_floor_division = a // b\n",
        "print(\"Ділення без залишку:\", result_floor_division)\n",
        "\n",
        "result_modulus = a % b\n",
        "print(\"Ділення по модулю:\", result_modulus)\n",
        "\n",
        "result_exponentiation = a ** b\n",
        "print(\"Піднесення до ступеня:\", result_exponentiation)"
      ],
      "metadata": {
        "id": "Ck6JaN4Qysoc",
        "colab": {
          "base_uri": "https://localhost:8080/"
        },
        "outputId": "89fba23e-3b43-4c45-f520-7534d01596ca"
      },
      "execution_count": 23,
      "outputs": [
        {
          "output_type": "stream",
          "name": "stdout",
          "text": [
            "Додавання: 9\n",
            "Віднімання: 5\n",
            "Ділення: 3.5\n",
            "Множення: 14\n",
            "Ділення без залишку: 3\n",
            "Ділення по модулю: 1\n",
            "Піднесення до ступеня: 49\n"
          ]
        }
      ]
    },
    {
      "cell_type": "markdown",
      "source": [
        "5. Створити дві змінні, що посилаються на будь-які два числа з рухомою комою та продемонструвати такі арифметичні операції: додавання, віднімання, ділення, множення, ділення без залишку, ділення по модулю, приведення до ступеню. Всі результати операцій вивести на екран."
      ],
      "metadata": {
        "id": "tOT1crlty3cE"
      }
    },
    {
      "cell_type": "code",
      "source": [
        "num = 16.4\n",
        "num2 = 4.5\n",
        "\n",
        "result_addition = num + num2\n",
        "print(\"Додавання:\", result_addition)\n",
        "\n",
        "result_subtraction = num - num2\n",
        "print(\"Віднімання:\", result_subtraction)\n",
        "\n",
        "result_division = num / num2\n",
        "print(\"Ділення:\", result_division)\n",
        "\n",
        "result_multiplication = num * num2\n",
        "print(\"Множення:\", result_multiplication)\n",
        "\n",
        "result_floor_division = num // num2\n",
        "print(\"Ділення без залишку:\", result_floor_division)\n",
        "\n",
        "result_modulus = num % num2\n",
        "print(\"Ділення по модулю:\", result_modulus)\n",
        "\n",
        "result_exponentiation = num ** num2\n",
        "print(\"Піднесення до ступеня:\", result_exponentiation)"
      ],
      "metadata": {
        "id": "m88_XOI9y-HI",
        "colab": {
          "base_uri": "https://localhost:8080/"
        },
        "outputId": "d064d6fa-b36b-4ef9-87c3-6ca910fb2474"
      },
      "execution_count": 35,
      "outputs": [
        {
          "output_type": "stream",
          "name": "stdout",
          "text": [
            "Додавання: 20.9\n",
            "Віднімання: 11.899999999999999\n",
            "Ділення: 3.644444444444444\n",
            "Множення: 73.8\n",
            "Ділення без залишку: 3.0\n",
            "Ділення по модулю: 2.8999999999999986\n",
            "Піднесення до ступеня: 292952.57262869435\n"
          ]
        }
      ]
    },
    {
      "cell_type": "markdown",
      "source": [
        "6. Спробуйте проробити всі ті самі арифметичні операції над двома змінними, що посилаються на різні булеві значення. Прокоментуйте, чому, на Вашу думку, Ви отримали саме такі результати."
      ],
      "metadata": {
        "id": "74jIsang0Yfe"
      }
    },
    {
      "cell_type": "code",
      "source": [
        "a = True\n",
        "b = False\n",
        "\n",
        "result_addition = a + b\n",
        "print(\"Додавання:\", result_addition)\n",
        "\n",
        "result_subtraction = a - b\n",
        "print(\"Віднімання:\", result_subtraction)\n",
        "\n",
        "#result_division = a / b\n",
        "print(\"Ділення:\", result_division) # нескінченність (inf) призводить до помилки ZeroDivisionError.\n",
        "\n",
        "result_multiplication = a * b\n",
        "print(\"Множення:\", result_multiplication)\n",
        "\n",
        "#result_floor_division = a // b\n",
        "print(\"Ділення без залишку:\", result_floor_division) # Ділення на 0 також призводить до помилки ZeroDivisionError.\n",
        "\n",
        "#result_modulus = a % b\n",
        "print(\"Ділення по модулю:\", result_modulus) # Ділення на 0 також призводить до помилки ZeroDivisionError.\n",
        "\n",
        "result_exponentiation = a ** b\n",
        "print(\"Піднесення до ступеня:\", result_exponentiation)"
      ],
      "metadata": {
        "id": "Py3JN4gU0eTq",
        "colab": {
          "base_uri": "https://localhost:8080/"
        },
        "outputId": "84b28cbf-a6d3-4c77-bde3-f329a6408906"
      },
      "execution_count": 39,
      "outputs": [
        {
          "output_type": "stream",
          "name": "stdout",
          "text": [
            "Додавання: 1\n",
            "Віднімання: 1\n",
            "Ділення: 3.644444444444444\n",
            "Множення: 0\n",
            "Ділення без залишку: 3.0\n",
            "Ділення по модулю: 2.8999999999999986\n",
            "Піднесення до ступеня: 1\n"
          ]
        }
      ]
    },
    {
      "cell_type": "markdown",
      "source": [
        "*місце для текстової відповіді або коментарів*"
      ],
      "metadata": {
        "id": "-pY4SCvo0wMG"
      }
    },
    {
      "cell_type": "markdown",
      "source": [
        "7. Використовуючи змінні з вправи 3, продемонструйте механізм явного перетворення типів, де числа з рухомою комою перетворюються на цілі числа."
      ],
      "metadata": {
        "id": "1kBClKgPzZnC"
      }
    },
    {
      "cell_type": "code",
      "source": [
        "number = 15.7\n",
        "integer_number = int(number)\n",
        "\n",
        "print(\"Початкове число (з рухомою комою):\", number)\n",
        "print(\"Число після перетворення на ціле:\", integer_number)"
      ],
      "metadata": {
        "id": "akcVeUWYzlpb",
        "colab": {
          "base_uri": "https://localhost:8080/"
        },
        "outputId": "041a3a47-a2a8-44a0-b8ae-d304bb3d45b3"
      },
      "execution_count": 41,
      "outputs": [
        {
          "output_type": "stream",
          "name": "stdout",
          "text": [
            "Початкове число (з рухомою комою): 15.7\n",
            "Число після перетворення на ціле: 15\n"
          ]
        }
      ]
    },
    {
      "cell_type": "markdown",
      "source": [
        "# III. Робота зі списками."
      ],
      "metadata": {
        "id": "GYVqN9uP1D4n"
      }
    },
    {
      "cell_type": "markdown",
      "source": [
        "8. Створити список двома різними за синтаксисом способами. За допомогою вбудованої функції обчисліть довжину одного з них."
      ],
      "metadata": {
        "id": "7-DeDunw2sO-"
      }
    },
    {
      "cell_type": "code",
      "source": [
        "my_list1 = [1, 2, 3, 4, 5]\n",
        "length1 = len(my_list1)\n",
        "print(\"Список my_list1:\", my_list1)\n",
        "print(\"Довжина списку :\", length1)"
      ],
      "metadata": {
        "id": "jY07arjK21hH",
        "colab": {
          "base_uri": "https://localhost:8080/"
        },
        "outputId": "79bb0af8-50ad-4b0f-c809-2b255e40470d"
      },
      "execution_count": 46,
      "outputs": [
        {
          "output_type": "stream",
          "name": "stdout",
          "text": [
            "Список my_list1: [1, 2, 3, 4, 5]\n",
            "Довжина списку : 5\n"
          ]
        }
      ]
    },
    {
      "cell_type": "code",
      "source": [
        "my_list2 = list(range(1, 6))\n",
        "length2 = len(my_list2)\n",
        "print(\"Список my_list2:\", my_list2)\n",
        "print(\"Довжина списку:\", length2)"
      ],
      "metadata": {
        "colab": {
          "base_uri": "https://localhost:8080/"
        },
        "id": "vI3LQTaVUlzX",
        "outputId": "d7fd4bd1-35af-4c73-c17c-bb628bf6aeb9"
      },
      "execution_count": 47,
      "outputs": [
        {
          "output_type": "stream",
          "name": "stdout",
          "text": [
            "Список my_list2: [1, 2, 3, 4, 5]\n",
            "Довжина списку: 5\n"
          ]
        }
      ]
    },
    {
      "cell_type": "markdown",
      "source": [
        "9. Створіть два списка та за допомогою спеціального методу додайте другий з них в якості останнього елемента першого."
      ],
      "metadata": {
        "id": "8vmGUTjL22gI"
      }
    },
    {
      "cell_type": "code",
      "source": [
        "list1 = [1, 2, 3, 4]\n",
        "list2 = [5, 6, 7, 8]\n",
        "list1 += list2\n",
        "print(\"Список після об'єднання:\", list1)"
      ],
      "metadata": {
        "id": "DSP6lO_m4cdV",
        "colab": {
          "base_uri": "https://localhost:8080/"
        },
        "outputId": "352e7d97-dc9a-4c00-d236-2926a8495457"
      },
      "execution_count": 50,
      "outputs": [
        {
          "output_type": "stream",
          "name": "stdout",
          "text": [
            "Список після об'єднання: [1, 2, 3, 4, 5, 6, 7, 8]\n"
          ]
        }
      ]
    },
    {
      "cell_type": "markdown",
      "source": [
        "10. Створіть два списка та за допомогою спеціального методу \"розширте\" перший (додайте всі елементи другого в кінець першого списку). Напишіть, чим відрізняються методи в завданні 9 та 10."
      ],
      "metadata": {
        "id": "6ke6ng2j4dtq"
      }
    },
    {
      "cell_type": "code",
      "source": [
        "list1 = list(range(1, 5))\n",
        "list2 = list(range(5, 10))\n",
        "list1.extend(list2)\n",
        "print(\"Список list1 після додавання list2:\", list1)"
      ],
      "metadata": {
        "id": "DVJVvu494q8d",
        "colab": {
          "base_uri": "https://localhost:8080/"
        },
        "outputId": "e3f98093-4540-46c5-f06e-821ab5f697d0"
      },
      "execution_count": 53,
      "outputs": [
        {
          "output_type": "stream",
          "name": "stdout",
          "text": [
            "Список list1 після додавання list2: [1, 2, 3, 4, 5, 6, 7, 8, 9]\n"
          ]
        }
      ]
    },
    {
      "cell_type": "markdown",
      "source": [
        "У завданні 9 був використаний оператор += для додавання всіх елементів другого списку в кінець першого списку.\n",
        "\n",
        "У завданні 10 був використаний метод .extend() для додавання всіх елементів другого списку в кінець першого списку."
      ],
      "metadata": {
        "id": "LvEs8TGo6CaT"
      }
    },
    {
      "cell_type": "markdown",
      "source": [
        "11. Створіть список та відсортуйте його так, щоб:\n",
        "а) його id залишився незмінним після сортування.\n",
        "б) результат сортування був збережений у нову змінну. Підказка: для одного пункту використовуйте вбудовану функцію стортування, а в іншому - спеціальний метод для роботи зі списками."
      ],
      "metadata": {
        "id": "iu_NyJeR4vOu"
      }
    },
    {
      "cell_type": "code",
      "source": [
        "# a\n",
        "\n",
        "list_a = [1, 4, 3, 2]\n",
        "sorted_list = sorted(list_a)\n",
        "print(\"Початковий список (id):\", id(list_a))\n",
        "print(\"Відсортований список (id):\", id(sorted_list))"
      ],
      "metadata": {
        "id": "LWdiIkDj5Nxo",
        "colab": {
          "base_uri": "https://localhost:8080/"
        },
        "outputId": "081429e4-c9e0-479a-9962-b6d3c70777fb"
      },
      "execution_count": 64,
      "outputs": [
        {
          "output_type": "stream",
          "name": "stdout",
          "text": [
            "Початковий список (id): 135820504136512\n",
            "Відсортований список (id): 135820504122432\n"
          ]
        }
      ]
    },
    {
      "cell_type": "code",
      "source": [
        "# b\n",
        "list_b = [7, 8, 6, 5]\n",
        "list_b.sort()\n",
        "print(\"Відсортований список:\", list_b)"
      ],
      "metadata": {
        "id": "JHl9vlFa5bHt",
        "colab": {
          "base_uri": "https://localhost:8080/"
        },
        "outputId": "9cad122f-43df-4b33-e18c-bdf46d9069a6"
      },
      "execution_count": 65,
      "outputs": [
        {
          "output_type": "stream",
          "name": "stdout",
          "text": [
            "Відсортований список: [5, 6, 7, 8]\n"
          ]
        }
      ]
    },
    {
      "cell_type": "markdown",
      "source": [
        "12. Створіть список з елементами різного типу, де деякі значення елементів повторюються. За допомогою спеціального методу порахуйте кількість значень одного з елементів на Ваш вибір. Результат виведіть на екран."
      ],
      "metadata": {
        "id": "1l80guua5bia"
      }
    },
    {
      "cell_type": "code",
      "source": [
        "my_list = [1, 6, 3.14, 5, 6, 0, 2]\n",
        "count_num = my_list.count(6)\n",
        "print(\"Кількість значень '6' у списку:\", count_num)"
      ],
      "metadata": {
        "id": "tWFdczmv5z5Q",
        "colab": {
          "base_uri": "https://localhost:8080/"
        },
        "outputId": "36ca5df4-8360-4356-8fe0-30a9294158b8"
      },
      "execution_count": 68,
      "outputs": [
        {
          "output_type": "stream",
          "name": "stdout",
          "text": [
            "Кількість значень '6' у списку: 2\n"
          ]
        }
      ]
    },
    {
      "cell_type": "markdown",
      "source": [
        "# IV. Робота з кортежами."
      ],
      "metadata": {
        "id": "pCjR1dJb1Qbi"
      }
    },
    {
      "cell_type": "markdown",
      "source": [
        "13. Створити список з один типом елементів та на основі цього списку створити кортеж."
      ],
      "metadata": {
        "id": "te3MAUYq28TV"
      }
    },
    {
      "cell_type": "code",
      "source": [
        "my_list = [1, 2, 3, 4, 5, 6]\n",
        "my_tuple = tuple(my_list)\n",
        "print(\"Кортеж:\", my_tuple)"
      ],
      "metadata": {
        "id": "uq3O114R2_H1",
        "colab": {
          "base_uri": "https://localhost:8080/"
        },
        "outputId": "91599adb-3150-4469-b048-e2591fee469f"
      },
      "execution_count": 70,
      "outputs": [
        {
          "output_type": "stream",
          "name": "stdout",
          "text": [
            "Кортеж: (1, 2, 3, 4, 5, 6)\n"
          ]
        }
      ]
    },
    {
      "cell_type": "markdown",
      "source": [
        "14. Створити кортеж з один елементом."
      ],
      "metadata": {
        "id": "fAZCxAX06R_k"
      }
    },
    {
      "cell_type": "code",
      "source": [
        "my_tuple = (59,)\n",
        "print(\"Кортеж з одним елементом:\", my_tuple)"
      ],
      "metadata": {
        "id": "-QWjudqk6kHd",
        "colab": {
          "base_uri": "https://localhost:8080/"
        },
        "outputId": "dd6b9dc8-5480-455c-f904-6046be073735"
      },
      "execution_count": 73,
      "outputs": [
        {
          "output_type": "stream",
          "name": "stdout",
          "text": [
            "Кортеж з одним елементом: (59,)\n"
          ]
        }
      ]
    },
    {
      "cell_type": "markdown",
      "source": [
        "15. Створити кортеж. Вивести на екран всі доступні його атрибути та методи."
      ],
      "metadata": {
        "id": "VfTSJwQF7djZ"
      }
    },
    {
      "cell_type": "code",
      "source": [],
      "metadata": {
        "id": "x9elcFfr774r"
      },
      "execution_count": null,
      "outputs": []
    },
    {
      "cell_type": "markdown",
      "source": [
        "16. Порівняйте список та кортеж. Назвіть схожості та відмінності, випадки використання."
      ],
      "metadata": {
        "id": "8LCtYcmI6w1M"
      }
    },
    {
      "cell_type": "markdown",
      "source": [
        "**місце для відповіді*"
      ],
      "metadata": {
        "id": "t9MwoWor7UVB"
      }
    },
    {
      "cell_type": "markdown",
      "source": [
        "# V. Індексування та слайсинг."
      ],
      "metadata": {
        "id": "QTP622J81iHk"
      }
    },
    {
      "cell_type": "markdown",
      "source": [
        "17. Створіть список з 6ти елементів. Отримайте третій елемент за допомогою двох різних індексів."
      ],
      "metadata": {
        "id": "4dmeIU-N9gHy"
      }
    },
    {
      "cell_type": "code",
      "source": [],
      "metadata": {
        "id": "47LTFhfH9pRe"
      },
      "execution_count": null,
      "outputs": []
    },
    {
      "cell_type": "markdown",
      "source": [
        "18. Створіть список, де елементами цього списку також є списки. Отримай перший елемент з останнього рядка та виведи значення на екран."
      ],
      "metadata": {
        "id": "JC3BkD-67_--"
      }
    },
    {
      "cell_type": "code",
      "source": [],
      "metadata": {
        "id": "ctR2jdq68cB0"
      },
      "execution_count": null,
      "outputs": []
    },
    {
      "cell_type": "markdown",
      "source": [
        "19. Створіть кортеж, що містить 8  елементів цілочисленного типу. Виведіть на екран три найменших значення."
      ],
      "metadata": {
        "id": "A-hPrvOS8cjx"
      }
    },
    {
      "cell_type": "code",
      "source": [],
      "metadata": {
        "id": "GPxJKNUm8xHU"
      },
      "execution_count": null,
      "outputs": []
    },
    {
      "cell_type": "markdown",
      "source": [
        "20. Створіть список з десяти елементів різного типу. Отримайте всі елементи, окрім двох перших та двох останніх та збережіть їх в новій змінній."
      ],
      "metadata": {
        "id": "JA47PKTv8zFK"
      }
    },
    {
      "cell_type": "code",
      "source": [],
      "metadata": {
        "id": "g-GAQS_kAlmr"
      },
      "execution_count": null,
      "outputs": []
    },
    {
      "cell_type": "markdown",
      "source": [
        "21. Створіть кортеж з 11ти елементів чисел з рухомою комою та отримайте кожен парний за індексом елемент в зворотньому порядку. Наприклад, маючи (1.2, 2.3, 3.3, 4.3, 5.3, 6.3, 7.3, 8.3, 9.3, 0.3), отримати (0.3, 8.3, 6.3, 4.3, 2.3). Результат збережіть в нову змінну та виведіть на екран."
      ],
      "metadata": {
        "id": "m0xrwFijAmDD"
      }
    },
    {
      "cell_type": "code",
      "source": [],
      "metadata": {
        "id": "BQwYLEXdBVBo"
      },
      "execution_count": null,
      "outputs": []
    },
    {
      "cell_type": "markdown",
      "source": [
        "# Вітаю! Ви велика(ий) молодець, що впоралась(вся). Похваліть себе та побалуйте чимось приємним. Я Вами пишаюся."
      ],
      "metadata": {
        "id": "F0ArvieRBZsG"
      }
    }
  ]
}
