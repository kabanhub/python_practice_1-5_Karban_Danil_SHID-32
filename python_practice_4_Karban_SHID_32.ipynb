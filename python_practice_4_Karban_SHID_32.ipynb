{
  "nbformat": 4,
  "nbformat_minor": 0,
  "metadata": {
    "colab": {
      "provenance": []
    },
    "kernelspec": {
      "name": "python3",
      "display_name": "Python 3"
    },
    "language_info": {
      "name": "python"
    }
  },
  "cells": [
    {
      "cell_type": "markdown",
      "source": [
        "# I. Functions. Arguments."
      ],
      "metadata": {
        "id": "-xM96SkgLNxS"
      }
    },
    {
      "cell_type": "markdown",
      "source": [
        "0. (5б) Назвіть 4 частини, з яких складається визначення функції."
      ],
      "metadata": {
        "id": "RFkkDC1jikAI"
      }
    },
    {
      "cell_type": "code",
      "source": [
        "# Function Signature\n",
        "def function1(parm1, parm2):\n",
        "  print(parm1)"
      ],
      "metadata": {
        "id": "tV4xxWnFisqZ"
      },
      "execution_count": null,
      "outputs": []
    },
    {
      "cell_type": "code",
      "source": [
        "# Docstring\n",
        "def function2(parameter1, parameter2):\n",
        "    \"\"\"\n",
        "    Ця функція виконує певну операцію з параметрами.\n",
        "    :return: Результат операції.\n",
        "    \"\"\""
      ],
      "metadata": {
        "id": "VSZWe0c-vC_r"
      },
      "execution_count": null,
      "outputs": []
    },
    {
      "cell_type": "code",
      "source": [
        "# Function Body\n",
        "def function3(parameter1, parameter2):\n",
        "    result = parameter1 + parameter2\n",
        "    return result"
      ],
      "metadata": {
        "id": "J5zeuPnqvDWN"
      },
      "execution_count": null,
      "outputs": []
    },
    {
      "cell_type": "code",
      "source": [
        "# Return Statement\n",
        "def function4(parameter1, parameter2):\n",
        "    result = parameter1 + parameter2\n",
        "    return result"
      ],
      "metadata": {
        "id": "cXb3iBqovDni"
      },
      "execution_count": null,
      "outputs": []
    },
    {
      "cell_type": "markdown",
      "source": [
        "1. (4б) Визначте функцію, що приймає 2 аргументи та повертає результат ділення 1го аргумента на інший."
      ],
      "metadata": {
        "id": "mg6qjOB2LbVs"
      }
    },
    {
      "cell_type": "code",
      "execution_count": null,
      "metadata": {
        "id": "lUbA_FWjKxQD"
      },
      "outputs": [],
      "source": [
        "def divide_numbers(a, b):\n",
        "    if b == 0:\n",
        "        return \"Ділення на нуль неможливе\"\n",
        "    result = a / b\n",
        "    return result"
      ]
    },
    {
      "cell_type": "markdown",
      "source": [
        "2. (2б) Викличте вище визначену функцію, де другий аргумент дорівнює 0."
      ],
      "metadata": {
        "id": "wMAYj2KXLpiJ"
      }
    },
    {
      "cell_type": "code",
      "source": [
        "result = divide_numbers(10, 0)\n",
        "print(result)"
      ],
      "metadata": {
        "id": "103jJj32Lo4Y",
        "colab": {
          "base_uri": "https://localhost:8080/"
        },
        "outputId": "b2f75ac6-68a4-4c1c-a8a6-be6b4167e688"
      },
      "execution_count": null,
      "outputs": [
        {
          "output_type": "stream",
          "name": "stdout",
          "text": [
            "Ділення на нуль неможливе\n"
          ]
        }
      ]
    },
    {
      "cell_type": "markdown",
      "source": [
        "3. (6б) Перевизначте функцію так, щоби у випадку ділення на 0 функція повертала None, а в решті випадків - результат розрахунків."
      ],
      "metadata": {
        "id": "eT-pwEwPMD3T"
      }
    },
    {
      "cell_type": "code",
      "source": [
        "def divide_numbers(a, b):\n",
        "    if b == 0:\n",
        "        return None\n",
        "    result = a / b\n",
        "    return result"
      ],
      "metadata": {
        "id": "1h6Jz7CKMTk_"
      },
      "execution_count": null,
      "outputs": []
    },
    {
      "cell_type": "markdown",
      "source": [
        "4. (5б) Напишіть документацію (docstring) у форматі Google до функції, що має обчислювати суму двох чисел."
      ],
      "metadata": {
        "id": "iuTiofyDMVMG"
      }
    },
    {
      "cell_type": "code",
      "source": [
        "def add_numbers(a, b):\n",
        "    \"\"\"\n",
        "    Параметри:\n",
        "    a (int or float): Перше число.\n",
        "    b (int or float): Друге число.\n",
        "\n",
        "    Повертає:\n",
        "    int or float: Сума `a` та `b`.\n",
        "    \"\"\"\n",
        "    result = a + b\n",
        "    return result\n"
      ],
      "metadata": {
        "id": "a9E6iU_iNyYQ"
      },
      "execution_count": null,
      "outputs": []
    },
    {
      "cell_type": "markdown",
      "source": [
        "5. (4б) Реалізуйте цю функцію (із додаванням docstring у визначення функції)."
      ],
      "metadata": {
        "id": "ZvrsUQZFN5VT"
      }
    },
    {
      "cell_type": "code",
      "source": [
        "def add_numbers(a, b):\n",
        "    \"\"\"\n",
        "    Параметри:\n",
        "    a (int or float): Перше число.\n",
        "    b (int or float): Друге число.\n",
        "\n",
        "    Повертає:\n",
        "    int or float: Сума `a` та `b`.\n",
        "    \"\"\"\n",
        "    result = a + b\n",
        "    return result"
      ],
      "metadata": {
        "id": "K5h3KTVuOBP3"
      },
      "execution_count": null,
      "outputs": []
    },
    {
      "cell_type": "markdown",
      "source": [
        "6. (6б) Визначте функцію, що віднімає одне число від іншого (підказка: це буде 2 аргументи функції). При чому, якщо не визначити, скільки саме має бути віднято від числа, за замовчуванням має відніматися 1. Викличте функцію, передаючи тільки один аргумент."
      ],
      "metadata": {
        "id": "IILi2wfYOwYb"
      }
    },
    {
      "cell_type": "code",
      "source": [
        "def subtract_numbers(a, b=1):\n",
        "    \"\"\"\n",
        "    Параметри:\n",
        "    a (int or float): Перше число.\n",
        "    b (int or float, optional): Друге число.\n",
        "\n",
        "    Повертає:\n",
        "    int or float: Різниця між `a` та `b`.\n",
        "    \"\"\"\n",
        "    result = a - b\n",
        "    return result\n",
        "\n",
        "result = subtract_numbers(8)\n",
        "print(result)  # Результат буде 7, так як 8 - 1 = 7\n"
      ],
      "metadata": {
        "id": "hybHnk8ROvxQ",
        "colab": {
          "base_uri": "https://localhost:8080/"
        },
        "outputId": "9a138844-081a-4f94-d5ea-bbaf3dbb3478"
      },
      "execution_count": null,
      "outputs": [
        {
          "output_type": "stream",
          "name": "stdout",
          "text": [
            "7\n"
          ]
        }
      ]
    },
    {
      "cell_type": "markdown",
      "source": [
        "7. (10б) Визначте функцію, яка приймає iterable (ітерабельний обʼєкт, напр. список), що складається з 7ми рядкових значень - назв погодних умов (напр. \"sunny\") за кожен день у тижні. Повертає функція словник, де ключами є рядки з погодними умовами, а значеннями - кількість разів, скільки дана погода була протягом тижня (напр. {'sunny': 1, ...})."
      ],
      "metadata": {
        "id": "UK6o8zcuR7cH"
      }
    },
    {
      "cell_type": "code",
      "source": [
        "def count_weather_conditions(weekly_conditions):\n",
        "    weather_count = {}  # Початковий порожній словник для підрахунку\n",
        "    for condition in weekly_conditions:\n",
        "        if condition in weather_count:\n",
        "            weather_count[condition] += 1\n",
        "        else:\n",
        "            weather_count[condition] = 1\n",
        "    return weather_count"
      ],
      "metadata": {
        "id": "3gkR5gl0SyYO"
      },
      "execution_count": null,
      "outputs": []
    },
    {
      "cell_type": "markdown",
      "source": [
        "8. (3б) Викличте цю функцію тричі з різними аргументами та виведіть результати на екран."
      ],
      "metadata": {
        "id": "x4zhem_2Syf7"
      }
    },
    {
      "cell_type": "code",
      "source": [
        "weekly_conditions1 = [\"sunny\", \"cloudy\", \"sunny\", \"rainy\", \"cloudy\", \"sunny\", \"cloudy\"]\n",
        "result1 = count_weather_conditions(weekly_conditions1)\n",
        "print(\"Результат першого виклику:\")\n",
        "print(result1)"
      ],
      "metadata": {
        "id": "B0agh7urS0Fc",
        "colab": {
          "base_uri": "https://localhost:8080/"
        },
        "outputId": "4eaf9d04-ef55-448c-d800-c02d6486e298"
      },
      "execution_count": null,
      "outputs": [
        {
          "output_type": "stream",
          "name": "stdout",
          "text": [
            "Результат першого виклику:\n",
            "{'sunny': 3, 'cloudy': 3, 'rainy': 1}\n"
          ]
        }
      ]
    },
    {
      "cell_type": "code",
      "source": [
        "weekly_conditions2 = [\"sunny\", \"sunny\", \"sunny\", \"sunny\", \"rainy\", \"cloudy\", \"cloudy\"]\n",
        "result2 = count_weather_conditions(weekly_conditions2)\n",
        "print(\"Результат другого виклику:\")\n",
        "print(result2)"
      ],
      "metadata": {
        "colab": {
          "base_uri": "https://localhost:8080/"
        },
        "id": "ArsegidX-CiA",
        "outputId": "8b02584c-a926-44e3-fcf0-16d3b5eabeab"
      },
      "execution_count": null,
      "outputs": [
        {
          "output_type": "stream",
          "name": "stdout",
          "text": [
            "Результат другого виклику:\n",
            "{'sunny': 4, 'rainy': 1, 'cloudy': 2}\n"
          ]
        }
      ]
    },
    {
      "cell_type": "markdown",
      "source": [
        "9. (15б) Напишіть програму, яка б шукала необхідне число у **впорядкованому** списку цілочислених значень, де\n",
        "\n",
        "\n",
        "1.   число має вводитись з консолі.\n",
        "2.   власне алгоритм пошуку винесений в окрему функцію, яка повертає булеве значення (знайдено число - True, не знайдено - False).\n",
        "3. в залежності від результату функції, виведіть на екран повідомлення про успішний або ж неуспішний пошук.\n",
        "\n",
        "\n",
        "**Зауваження**: використовувати оператор **in** заборонено."
      ],
      "metadata": {
        "id": "bLgviTMlUlNG"
      }
    },
    {
      "cell_type": "code",
      "source": [
        "def search(arr, target):\n",
        "    left, right = 0, len(arr) - 1\n",
        "    while left <= right:\n",
        "        mid = (left + right) // 2\n",
        "        if arr[mid] == target:\n",
        "            return True\n",
        "        elif arr[mid] < target:\n",
        "            left = mid + 1\n",
        "        else:\n",
        "            right = mid - 1\n",
        "    return False\n",
        "\n",
        "input_list = input(\"Введіть список цілих чисел (впорядкований, через кому): \").split(',')\n",
        "input_list = [int(x) for x in input_list]\n",
        "target = int(input(\"Введіть число, яке потрібно знайти: \"))\n",
        "\n",
        "found = search(input_list, target)\n",
        "\n",
        "if found:\n",
        "    print(f\"Результат пошуку числа {target} - успішний.\")\n",
        "else:\n",
        "    print(f\"Результат пошуку числа {target} - не успішний.\")"
      ],
      "metadata": {
        "id": "LAHz6MmdcWfP",
        "colab": {
          "base_uri": "https://localhost:8080/"
        },
        "outputId": "eaddaed9-4dcd-4a6e-a9ab-308fe6b3db70"
      },
      "execution_count": null,
      "outputs": [
        {
          "output_type": "stream",
          "name": "stdout",
          "text": [
            "Введіть список цілих чисел (впорядкований, через кому): 1,2,3,4,5,6,7,8,9,10,11,12,13,14,15,16\n",
            "Введіть число, яке потрібно знайти: 8\n",
            "Результат пошуку числа 8 - успішний.\n"
          ]
        }
      ]
    },
    {
      "cell_type": "markdown",
      "source": [
        "# II. Lambda functions."
      ],
      "metadata": {
        "id": "wCKOEiKhLSld"
      }
    },
    {
      "cell_type": "markdown",
      "source": [
        "10. (6б) Визначте анонімну функцію, що виконувала б завдання з задачі №1."
      ],
      "metadata": {
        "id": "c4EBfW6QcXF7"
      }
    },
    {
      "cell_type": "code",
      "source": [
        "division = lambda a, b: \"Ділення на нуль неможливе\" if b == 0 else a / b\n",
        "result = division(10, 5)\n",
        "print(result)"
      ],
      "metadata": {
        "id": "sGgO6KjuhUj5",
        "colab": {
          "base_uri": "https://localhost:8080/"
        },
        "outputId": "bf179860-6d18-4d44-8e26-bf490ea28d9c"
      },
      "execution_count": null,
      "outputs": [
        {
          "output_type": "stream",
          "name": "stdout",
          "text": [
            "2.0\n"
          ]
        }
      ]
    },
    {
      "cell_type": "markdown",
      "source": [
        "11. (5б) В яких випадках варто використовувати лямбда-функції?"
      ],
      "metadata": {
        "id": "fWa0efmRhepO"
      }
    },
    {
      "cell_type": "markdown",
      "source": [
        "*місце для відповіді\n",
        "\n",
        "Лямбда-функції можна варто використовувати у:\n",
        "\n",
        "> Простих операціях\n",
        "\n",
        "> Ключових функціях для сортування\n",
        "\n",
        "> Компактності коду\n"
      ],
      "metadata": {
        "id": "R68BViaPhad_"
      }
    },
    {
      "cell_type": "markdown",
      "source": [
        "12. (9б) Визначте список з рядками. Після цього визначте анонімну функцію для отримання першого символу у верхньому регістрі для кожного рядка списку.\n",
        "*Підказка*: використовуйте анонімну функцію в якості агрумента до вбудованої ф-ції, яка створена для застосування функцій над iterable обʼєктами.\n",
        "Результат виведіть на екран у вигляді кортежу."
      ],
      "metadata": {
        "id": "0CL6ikIkhU7j"
      }
    },
    {
      "cell_type": "code",
      "source": [
        "list_of_strings = [\"apple\", \"banana\", \"cherry\", \"date\"]\n",
        "result = tuple(map(lambda x: x[0].upper(), list_of_strings))\n",
        "print(result)\n"
      ],
      "metadata": {
        "id": "I1Lw2SSNhhJw",
        "colab": {
          "base_uri": "https://localhost:8080/"
        },
        "outputId": "b5d01b8f-3d08-47be-f604-a8b86d27fe6f"
      },
      "execution_count": 1,
      "outputs": [
        {
          "output_type": "stream",
          "name": "stdout",
          "text": [
            "('A', 'B', 'C', 'D')\n"
          ]
        }
      ]
    },
    {
      "cell_type": "markdown",
      "source": [
        "# III. Decorators."
      ],
      "metadata": {
        "id": "rgGmGt67m5yi"
      }
    },
    {
      "cell_type": "markdown",
      "source": [
        "13. (15б) Визначте декоратор, який би виводив у консоль повідомлення про початок роботи і назву функції, а після відпрацювання функції - повідомлення про закінчення роботи і назву функції, що задекорована."
      ],
      "metadata": {
        "id": "DZm1W0Qqncu8"
      }
    },
    {
      "cell_type": "code",
      "source": [
        "def print_function_execution(func):\n",
        "    def wrapper(*args, **kwargs):\n",
        "        print(f'Початок роботи функції: {func.__name__}')\n",
        "        result = func(*args, **kwargs)\n",
        "        print(f'Закінчення роботи функції: {func.__name__}')\n",
        "        return result\n",
        "    return wrapper\n",
        "\n",
        "@print_function_execution\n",
        "\n",
        "def example_function(x_num, y_num):\n",
        "    return x_num + y_num\n",
        "\n",
        "x_num = int(input('Введіть число x: '))\n",
        "y_num = int(input('Введіть число y: '))\n",
        "result = example_function(x_num, y_num )\n",
        "print(\"Результат функції:\", result)"
      ],
      "metadata": {
        "id": "5s3X3F6soer0",
        "colab": {
          "base_uri": "https://localhost:8080/"
        },
        "outputId": "a1f5f868-236d-4949-9c6c-fd3b19a35644"
      },
      "execution_count": 6,
      "outputs": [
        {
          "output_type": "stream",
          "name": "stdout",
          "text": [
            "Введіть число x: 7\n",
            "Введіть число y: 5\n",
            "Початок роботи функції: example_function\n",
            "Закінчення роботи функції: example_function\n",
            "Результат функції: 12\n"
          ]
        }
      ]
    },
    {
      "cell_type": "markdown",
      "source": [
        "14. (7б) Задекоруйте функції з завдання 3, 5 та 6 декоратором із завдання 13. *Примітка*: продемонструйте 2 способи, як можна задекорувати функції (**УВАГА**: не декоруйте функції двічі!)."
      ],
      "metadata": {
        "id": "AlGt40oVofHB"
      }
    },
    {
      "cell_type": "code",
      "source": [],
      "metadata": {
        "id": "hkxhoRVqo1AW"
      },
      "execution_count": null,
      "outputs": []
    },
    {
      "cell_type": "markdown",
      "source": [
        "15. (2б) Викличте одну з задекорованих функцій і виведіть її результат на екран."
      ],
      "metadata": {
        "id": "6QkS0Kxzo4UR"
      }
    },
    {
      "cell_type": "code",
      "source": [],
      "metadata": {
        "id": "BCCCPai6o-y5"
      },
      "execution_count": null,
      "outputs": []
    },
    {
      "cell_type": "markdown",
      "source": [
        "# Вітаю! Ви велика(ий) молодець, що впоралась(вся). Похваліть себе та побалуйте чимось приємним. Я Вами пишаюся."
      ],
      "metadata": {
        "id": "CSN0Q5pMQVNQ"
      }
    }
  ]
}